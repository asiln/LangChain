{
 "cells": [
  {
   "cell_type": "code",
   "execution_count": 1,
   "id": "06e7cb25-3f82-4ad1-89ae-aa5a6144238d",
   "metadata": {},
   "outputs": [
    {
     "data": {
      "text/plain": [
       "True"
      ]
     },
     "execution_count": 1,
     "metadata": {},
     "output_type": "execute_result"
    }
   ],
   "source": [
    "from dotenv import find_dotenv, load_dotenv\n",
    "from transformers import pipeline\n",
    "import requests\n",
    "import os\n",
    "import streamlit as st\n",
    "\n",
    "load_dotenv(find_dotenv())"
   ]
  },
  {
   "cell_type": "code",
   "execution_count": 2,
   "id": "8b90ee0f-ab01-4dee-b052-64ec4890139c",
   "metadata": {},
   "outputs": [],
   "source": [
    "HUGGING_FACE_TOKEN = os.getenv(\"HUGGING_FACE_TOKEN\")"
   ]
  },
  {
   "cell_type": "code",
   "execution_count": 3,
   "id": "ac9f7b37-ebf6-48e7-8790-02afedde254c",
   "metadata": {},
   "outputs": [],
   "source": [
    "# img2txt\n",
    "def img2txt(url):\n",
    "    image_to_text = pipeline(\"image-to-text\", model=\"Salesforce/blip-image-captioning-large\", max_new_tokens=50)\n",
    "    text = image_to_text(url)[0][\"generated_text\"]\n",
    "    print(text)\n",
    "    return text"
   ]
  },
  {
   "cell_type": "code",
   "execution_count": 4,
   "id": "aa7483a7-db7a-4fe8-8e59-394d96458f6a",
   "metadata": {},
   "outputs": [
    {
     "name": "stdout",
     "output_type": "stream",
     "text": [
      "there are coffee bags and a cup of coffee on a table\n"
     ]
    }
   ],
   "source": [
    "senario = img2txt(\"maryna-vasylieva-vasilievame-2xDIrOkhEb0-unsplash.jpg\")"
   ]
  },
  {
   "cell_type": "code",
   "execution_count": 5,
   "id": "8782c32b-109f-4d49-aa10-d06d8ae39e15",
   "metadata": {},
   "outputs": [],
   "source": [
    "# llm\n",
    "def generate_story(senario):\n",
    "    API_URL = \"https://api-inference.huggingface.co/models/mistralai/Mistral-7B-Instruct-v0.1\"\n",
    "    headers = {\"Authorization\": f\"Bearer {HUGGING_FACE_TOKEN}\"}\n",
    "    def query(payload):\n",
    "    \tresponse = requests.post(API_URL, headers=headers, json=payload)\n",
    "    \treturn response.json()\n",
    "\t\n",
    "    output = query({\n",
    "\t\"inputs\": \"<s>[INST] write short story about \" + senario + \"[/INST]\",\n",
    "    })\n",
    "    print(output[0][\"generated_text\"])\n",
    "    return output\n",
    "\n"
   ]
  },
  {
   "cell_type": "code",
   "execution_count": 11,
   "id": "9035cd2d-c7b9-48d1-aa70-2e5acdb5863f",
   "metadata": {},
   "outputs": [
    {
     "name": "stdout",
     "output_type": "stream",
     "text": [
      "<s>[INST] write short story about there are coffee bags and a cup of coffee on a table[/INST] Once upon a time, there was a small coffee shop on the corner of the street. The shop\n"
     ]
    },
    {
     "data": {
      "text/plain": [
       "[{'generated_text': '<s>[INST] write short story about there are coffee bags and a cup of coffee on a table[/INST] Once upon a time, there was a small coffee shop on the corner of the street. The shop'}]"
      ]
     },
     "execution_count": 11,
     "metadata": {},
     "output_type": "execute_result"
    }
   ],
   "source": [
    "generate_story(senario)"
   ]
  },
  {
   "cell_type": "code",
   "execution_count": 34,
   "id": "4ab9c7aa-ebe0-43b5-8dad-54c717a2f0b8",
   "metadata": {},
   "outputs": [],
   "source": [
    "def new_story(senario):\n",
    "    API_URL = \"https://api-inference.huggingface.co/models/tiiuae/falcon-7b-instruct\"\n",
    "    headers = {\"Authorization\": f\"Bearer {HUGGING_FACE_TOKEN}\", 'Content-Type': 'application/json'}\n",
    "\n",
    "    def query(payload):\n",
    "    \tresponse = requests.post(API_URL, headers=headers, json=payload)\n",
    "    \treturn response.json()\n",
    "\t\n",
    "    output = query({\n",
    "    \t\"inputs\": \"<s>[INST] write short story about \" + senario + \"[/INST]\",\n",
    "        \"parameters\": {\"max_new_tokens\":200},\n",
    "    })\n",
    "    print(output[0][\"generated_text\"])\n",
    "    return output[0][\"generated_text\"]"
   ]
  },
  {
   "cell_type": "code",
   "execution_count": 35,
   "id": "c496856f-e79d-466c-9456-b26ef3b772a1",
   "metadata": {},
   "outputs": [
    {
     "name": "stdout",
     "output_type": "stream",
     "text": [
      "<s>[INST] write short story about there are coffee bags and a cup of coffee on a table[/INST]\n",
      "There were coffee bags hanging from the ceiling, each filled with a different type of coffee. The air was thick with the aroma of freshly brewed coffee. On a table in the corner, a cup of coffee sat waiting to be enjoyed.\n"
     ]
    }
   ],
   "source": [
    "story = new_story(senario)"
   ]
  },
  {
   "cell_type": "code",
   "execution_count": 36,
   "id": "bcb289fd-1c6d-4cc3-9bbe-42b1ee5931fa",
   "metadata": {},
   "outputs": [
    {
     "data": {
      "text/plain": [
       "str"
      ]
     },
     "execution_count": 36,
     "metadata": {},
     "output_type": "execute_result"
    }
   ],
   "source": [
    "type(story)"
   ]
  },
  {
   "cell_type": "code",
   "execution_count": 46,
   "id": "dc5b1005-7261-41bf-bc7f-e7dbd9121a7d",
   "metadata": {},
   "outputs": [
    {
     "data": {
      "text/plain": [
       "'\\nThere were coffee bags hanging from the ceiling, each filled with a different type of coffee. The air was thick with the aroma of freshly brewed coffee. On a table in the corner, a cup of coffee sat waiting to be enjoyed.'"
      ]
     },
     "execution_count": 46,
     "metadata": {},
     "output_type": "execute_result"
    }
   ],
   "source": [
    "import re\n",
    "\n",
    "# Define a regular expression pattern to match text between <s> and [/INST]\n",
    "pattern = r'<s>.*?\\[/INST\\]'\n",
    "\n",
    "# Use re.sub() to remove matched text\n",
    "story = re.sub(pattern, '', str(story))\n",
    "story"
   ]
  },
  {
   "cell_type": "code",
   "execution_count": 47,
   "id": "898c9601-da18-487a-acb1-fe8474275a5b",
   "metadata": {},
   "outputs": [],
   "source": [
    "# txt to speech\n",
    "def text2speech(message):\n",
    "    API_URL = \"https://api-inference.huggingface.co/models/espnet/kan-bayashi_ljspeech_vits\"\n",
    "    headers = {\"Authorization\": f\"Bearer {HUGGING_FACE_TOKEN}\"}\n",
    "    payloads = {\n",
    "        \"inputs\": message\n",
    "    }\n",
    "\n",
    "    response = requests.post(API_URL, headers=headers, json=payloads)\n",
    "    with open('audio1.flac', 'wb') as file:\n",
    "        file.write(response.content)"
   ]
  },
  {
   "cell_type": "code",
   "execution_count": 48,
   "id": "0aa4c65f-6d6e-4dc8-81b0-bef1dfde42a1",
   "metadata": {},
   "outputs": [],
   "source": [
    "#senario = img2txt(\"maryna-vasylieva-vasilievame-2xDIrOkhEb0-unsplash.jpg\")\n",
    "text2speech(story)"
   ]
  },
  {
   "cell_type": "code",
   "execution_count": null,
   "id": "6e887425-626a-441a-9a52-c2ee9df1fb9e",
   "metadata": {},
   "outputs": [],
   "source": []
  },
  {
   "cell_type": "code",
   "execution_count": null,
   "id": "9963e1e3-c47d-4033-8995-f3c5a89a0a08",
   "metadata": {},
   "outputs": [],
   "source": [
    "def main():\n",
    "    st.set_page_config(page_title=\"Image to audio story\", page_icon=\"🤖\")\n",
    "\n",
    "    st.header(\"turn image into audio story\")\n",
    "    uploaded_file = st.file_uploader(\"Choose an image...\", type=\"jpg\")\n",
    "\n",
    "    if uploaded_file is not None:\n",
    "        print(uploaded_file)\n",
    "        bytes_data = uploaded_file.getvalue()\n",
    "        with open(uploaded_file.name, \"wb\") as file:\n",
    "            file.write(bytes_data)\n",
    "        st.image(uploaded_file, caption='Uploaded Image.',\n",
    "                 use_column_width=True)\n",
    "        senario = img2txt(uploaded_file.name)\n",
    "        story = new_story(senario)\n",
    "        text2speech(story)\n",
    "\n",
    "        with st.expander(\"senario\"):\n",
    "            st.write(senario)\n",
    "        with st.expander(\"story\"):\n",
    "            st.write(story)\n",
    "\n",
    "        st.audio(\"audio1.flac\")\n",
    "\n",
    "if __name__ == '__main__':\n",
    "    main()"
   ]
  }
 ],
 "metadata": {
  "kernelspec": {
   "display_name": "cuda-gpt",
   "language": "python",
   "name": "cuda"
  },
  "language_info": {
   "codemirror_mode": {
    "name": "ipython",
    "version": 3
   },
   "file_extension": ".py",
   "mimetype": "text/x-python",
   "name": "python",
   "nbconvert_exporter": "python",
   "pygments_lexer": "ipython3",
   "version": "3.10.4"
  }
 },
 "nbformat": 4,
 "nbformat_minor": 5
}
